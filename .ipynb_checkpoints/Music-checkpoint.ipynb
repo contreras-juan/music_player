{
 "cells": [
  {
   "cell_type": "code",
   "execution_count": 20,
   "metadata": {},
   "outputs": [],
   "source": [
    "# How to build an MP3 Music Player with Python Toward Data Science\n",
    "import tkinter as tk\n",
    "import pygame\n",
    "from os import listdir"
   ]
  },
  {
   "cell_type": "code",
   "execution_count": 91,
   "metadata": {},
   "outputs": [
    {
     "name": "stdout",
     "output_type": "stream",
     "text": [
      "En dónde están las canciones que desea reproducir?: /home/juan/Data_Science/BIT/JuanFelipeContrerasU1A03/Canciones\n"
     ]
    },
    {
     "ename": "NameError",
     "evalue": "name 'lista_box' is not defined",
     "output_type": "error",
     "traceback": [
      "\u001b[0;31m---------------------------------------------------------------------------\u001b[0m",
      "\u001b[0;31mNameError\u001b[0m                                 Traceback (most recent call last)",
      "\u001b[0;32m<ipython-input-91-8d369c8f1316>\u001b[0m in \u001b[0;36m<module>\u001b[0;34m\u001b[0m\n\u001b[1;32m     53\u001b[0m \u001b[0;34m\u001b[0m\u001b[0m\n\u001b[1;32m     54\u001b[0m \u001b[0mroot\u001b[0m \u001b[0;34m=\u001b[0m \u001b[0mtk\u001b[0m\u001b[0;34m.\u001b[0m\u001b[0mTk\u001b[0m\u001b[0;34m(\u001b[0m\u001b[0;34m)\u001b[0m\u001b[0;34m\u001b[0m\u001b[0;34m\u001b[0m\u001b[0m\n\u001b[0;32m---> 55\u001b[0;31m \u001b[0mapp\u001b[0m \u001b[0;34m=\u001b[0m \u001b[0mReproductorMusical\u001b[0m\u001b[0;34m(\u001b[0m\u001b[0mroot\u001b[0m\u001b[0;34m)\u001b[0m\u001b[0;34m\u001b[0m\u001b[0;34m\u001b[0m\u001b[0m\n\u001b[0m\u001b[1;32m     56\u001b[0m \u001b[0mapp\u001b[0m\u001b[0;34m.\u001b[0m\u001b[0mmainloop\u001b[0m\u001b[0;34m(\u001b[0m\u001b[0;34m)\u001b[0m\u001b[0;34m\u001b[0m\u001b[0;34m\u001b[0m\u001b[0m\n",
      "\u001b[0;32m<ipython-input-91-8d369c8f1316>\u001b[0m in \u001b[0;36m__init__\u001b[0;34m(self, container)\u001b[0m\n\u001b[1;32m     20\u001b[0m         \u001b[0mk\u001b[0m \u001b[0;34m=\u001b[0m \u001b[0;36m1\u001b[0m\u001b[0;34m\u001b[0m\u001b[0;34m\u001b[0m\u001b[0m\n\u001b[1;32m     21\u001b[0m         \u001b[0;32mfor\u001b[0m \u001b[0mj\u001b[0m \u001b[0;32min\u001b[0m \u001b[0mcanciones\u001b[0m\u001b[0;34m:\u001b[0m\u001b[0;34m\u001b[0m\u001b[0;34m\u001b[0m\u001b[0m\n\u001b[0;32m---> 22\u001b[0;31m             \u001b[0mlista_box\u001b[0m\u001b[0;34m.\u001b[0m\u001b[0minsert\u001b[0m\u001b[0;34m(\u001b[0m\u001b[0mk\u001b[0m\u001b[0;34m,\u001b[0m \u001b[0mj\u001b[0m\u001b[0;34m)\u001b[0m\u001b[0;34m\u001b[0m\u001b[0;34m\u001b[0m\u001b[0m\n\u001b[0m\u001b[1;32m     23\u001b[0m             \u001b[0mk\u001b[0m \u001b[0;34m+=\u001b[0m \u001b[0;36m1\u001b[0m\u001b[0;34m\u001b[0m\u001b[0;34m\u001b[0m\u001b[0m\n\u001b[1;32m     24\u001b[0m \u001b[0;34m\u001b[0m\u001b[0m\n",
      "\u001b[0;31mNameError\u001b[0m: name 'lista_box' is not defined"
     ]
    }
   ],
   "source": [
    "class ReproductorMusical(tk.Frame):\n",
    "    def __init__(self, container):\n",
    "        \n",
    "        # Definición de contenedor\n",
    "        super().__init__(container)\n",
    "        self.container = container\n",
    "        container.configure(background = 'dark slate gray')\n",
    "        self.title = container.title('BIT Music')\n",
    "        self.geometry = container.geometry('700x700')\n",
    "#         self.cancion = tk.StringVar().set(cancion)\n",
    "#         self.listaCanciones = listaCanciones\n",
    "        \n",
    "        # Definición de la lista de canciones a reproducir\n",
    "        ruta = input('En dónde están las canciones que desea reproducir?: ')\n",
    "        os.chdir(ruta)\n",
    "        canciones = listdir(ruta)\n",
    "        \n",
    "        lista_box = tk.Listbox(container, selectmode = 'SINGLE')\n",
    "        \n",
    "        k = 1\n",
    "        for j in canciones:\n",
    "            lista_box.insert(k, j)\n",
    "            k += 1\n",
    "\n",
    "        lista_box.pack(pady = 30, padx = 5)\n",
    "        self.cancion = lista_box.curselection()\n",
    "        self.cancion = lista_box.get(ACTIVE)\n",
    "        \n",
    "        # Definición de botones de reproducción\n",
    "        self.pack()\n",
    "#         tk.Label(container, textvariable = self.cancion)\n",
    "        self.estado = None\n",
    "#         self.ReproducirCancion()\n",
    "#         self.DetenerCancion()\n",
    "#         self.PausarCancion()\n",
    "        \n",
    "        self.reproducir = tk.Button(self.container, text = 'Play', command = self.ReproducirCancion()).pack()\n",
    "        self.pausar = tk.Button(self.container, text = 'Pause', command = self.PausarCancion()).pack()\n",
    "        self.detener = tk.Button(self.container, text = 'Stop', command = self.DetenerCancion()).pack()\n",
    "    \n",
    "    def ReproducirCancion(self):\n",
    "        pygame.mixer.music.load(self.lista_box.get(tk.ACTIVE))\n",
    "        pygame.mixer.music.play(0)\n",
    "    \n",
    "    def DetenerCancion(self):\n",
    "        pygame.mixer.music.stop()\n",
    "    \n",
    "    def PausarCancion(self):\n",
    "        pygame.mixer.music.pause()\n",
    "        \n",
    "\n",
    "\n",
    "        \n",
    "root = tk.Tk()\n",
    "app = ReproductorMusical(root)\n",
    "app.mainloop()"
   ]
  },
  {
   "cell_type": "code",
   "execution_count": 19,
   "metadata": {},
   "outputs": [],
   "source": [
    "root = tk.Tk()\n",
    "my_string_var = tk.StringVar()\n",
    "my_string_var.set('First Time')\n",
    "tk.Label(root, textvariable=my_string_var).grid()\n",
    "root.mainloop()"
   ]
  },
  {
   "cell_type": "markdown",
   "metadata": {},
   "source": [
    "# Ejercicio"
   ]
  },
  {
   "cell_type": "code",
   "execution_count": 52,
   "metadata": {},
   "outputs": [],
   "source": [
    "container = tk.Tk()\n",
    "container.title('Music')\n",
    "container.geometry('500x300')\n",
    "container.configure(background=\"dark slate gray\")\n",
    "\n",
    "cuadro1 = tk.Frame(container)\n",
    "cuadro1.pack(pady=30, padx = 10)\n",
    "primerCuadro = tk.Frame(cuadro1)\n",
    "primerCuadro.pack(pady=30, padx = 30)\n",
    "\n",
    "cuadro2 = tk.Frame(container)\n",
    "cuadro2.pack(pady=5, padx = 10)\n",
    "segundoCuadro = tk.Frame(cuadro2)\n",
    "segundoCuadro.pack(pady=30, padx = 30)\n",
    "\n",
    "cuadro3 = tk.Frame(container)\n",
    "cuadro3.pack(pady=0, padx = 10)\n",
    "tercerCuadro = tk.Frame(cuadro3)\n",
    "tercerCuadro.pack(pady=30, padx = 30)\n",
    "\n",
    "# imagenPlay=tk.PhotoImage(file=\"play.jpg\")\n",
    "# boton = tk.Button(primerCuadro, image = imagenPlay)"
   ]
  },
  {
   "cell_type": "code",
   "execution_count": 53,
   "metadata": {},
   "outputs": [],
   "source": [
    "container.mainloop()"
   ]
  },
  {
   "cell_type": "code",
   "execution_count": 69,
   "metadata": {},
   "outputs": [
    {
     "ename": "SyntaxError",
     "evalue": "invalid syntax (<ipython-input-69-ab481bd09558>, line 1)",
     "output_type": "error",
     "traceback": [
      "\u001b[1;36m  File \u001b[1;32m\"<ipython-input-69-ab481bd09558>\"\u001b[1;36m, line \u001b[1;32m1\u001b[0m\n\u001b[1;33m    setcd \"D:\\BIT\\JuanFelipeContrerasU1A03\"\u001b[0m\n\u001b[1;37m                                          ^\u001b[0m\n\u001b[1;31mSyntaxError\u001b[0m\u001b[1;31m:\u001b[0m invalid syntax\n"
     ]
    }
   ],
   "source": [
    "setcd \"D:\\BIT\\JuanFelipeContrerasU1A03\""
   ]
  },
  {
   "cell_type": "code",
   "execution_count": 68,
   "metadata": {},
   "outputs": [
    {
     "name": "stdout",
     "output_type": "stream",
     "text": [
      "C:\\Users\\felip\n"
     ]
    }
   ],
   "source": [
    "cd"
   ]
  },
  {
   "cell_type": "code",
   "execution_count": 4,
   "metadata": {},
   "outputs": [],
   "source": [
    "import tkinter as tk\n",
    "\n",
    "class Application(tk.Frame):\n",
    "    def __init__(self, master=None):\n",
    "        super().__init__(master)\n",
    "        self.master = master\n",
    "        self.pack()\n",
    "        self.create_widgets()\n",
    "\n",
    "    def create_widgets(self):\n",
    "        self.hi_there = tk.Button(self)\n",
    "        self.hi_there[\"text\"] = \"Hello World\\n(click me)\"\n",
    "        self.hi_there[\"command\"] = self.say_hi\n",
    "        self.hi_there.pack(side=\"top\")\n",
    "\n",
    "        self.quit = tk.Button(self, text=\"QUIT\", fg=\"red\",\n",
    "                              command=self.master.destroy)\n",
    "        self.quit.pack(side=\"bottom\")\n",
    "\n",
    "    def say_hi(self):\n",
    "        print(\"hi there, everyone!\")\n",
    "\n",
    "root = tk.Tk()\n",
    "app = Application(master=root)\n",
    "app.mainloop()"
   ]
  },
  {
   "cell_type": "code",
   "execution_count": 15,
   "metadata": {},
   "outputs": [],
   "source": [
    "pygame.mixer.init()\n",
    "pygame.mixer.music.load('Canciones/One.wav')\n",
    "pygame.mixer.music.play()"
   ]
  },
  {
   "cell_type": "code",
   "execution_count": 52,
   "metadata": {},
   "outputs": [],
   "source": [
    "pygame.mixer.music.stop()"
   ]
  },
  {
   "cell_type": "code",
   "execution_count": 28,
   "metadata": {},
   "outputs": [],
   "source": [
    "import os\n",
    "os.chdir('Canciones')"
   ]
  },
  {
   "cell_type": "code",
   "execution_count": 30,
   "metadata": {},
   "outputs": [
    {
     "data": {
      "text/plain": [
       "'/home/juan/Data_Science/BIT/JuanFelipeContrerasU1A03/Canciones'"
      ]
     },
     "execution_count": 30,
     "metadata": {},
     "output_type": "execute_result"
    }
   ],
   "source": [
    "os.getcwd()"
   ]
  },
  {
   "cell_type": "code",
   "execution_count": 55,
   "metadata": {},
   "outputs": [],
   "source": [
    "ruta = '/home/juan/Data_Science/BIT/JuanFelipeContrerasU1A03/Canciones'"
   ]
  },
  {
   "cell_type": "code",
   "execution_count": 57,
   "metadata": {},
   "outputs": [
    {
     "data": {
      "text/plain": [
       "'/home/juan/Data_Science/BIT/JuanFelipeContrerasU1A03/Canciones'"
      ]
     },
     "execution_count": 57,
     "metadata": {},
     "output_type": "execute_result"
    }
   ],
   "source": [
    "ruta"
   ]
  },
  {
   "cell_type": "code",
   "execution_count": null,
   "metadata": {},
   "outputs": [],
   "source": []
  }
 ],
 "metadata": {
  "kernelspec": {
   "display_name": "Python 3",
   "language": "python",
   "name": "python3"
  },
  "language_info": {
   "codemirror_mode": {
    "name": "ipython",
    "version": 3
   },
   "file_extension": ".py",
   "mimetype": "text/x-python",
   "name": "python",
   "nbconvert_exporter": "python",
   "pygments_lexer": "ipython3",
   "version": "3.7.6"
  }
 },
 "nbformat": 4,
 "nbformat_minor": 4
}
